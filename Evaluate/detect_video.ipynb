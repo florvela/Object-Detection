{
  "nbformat": 4,
  "nbformat_minor": 0,
  "metadata": {
    "colab": {
      "provenance": []
    },
    "kernelspec": {
      "name": "python3",
      "display_name": "Python 3"
    },
    "language_info": {
      "name": "python"
    }
  },
  "cells": [
    {
      "cell_type": "code",
      "source": [
        "# clone YOLOv5 repository\n",
        "%cd /content\n",
        "!git clone https://github.com/ultralytics/yolov5  # clone repo\n",
        "%cd yolov5\n",
        "!git reset --hard fbe67e465375231474a2ad80a4389efc77ecff99"
      ],
      "metadata": {
        "colab": {
          "base_uri": "https://localhost:8080/"
        },
        "id": "gZ9voVoiG5Ir",
        "outputId": "29551f63-dabf-42b8-bc7d-394438d9bd6c"
      },
      "execution_count": 2,
      "outputs": [
        {
          "output_type": "stream",
          "name": "stdout",
          "text": [
            "/content\n",
            "Cloning into 'yolov5'...\n",
            "remote: Enumerating objects: 14010, done.\u001b[K\n",
            "remote: Counting objects: 100% (28/28), done.\u001b[K\n",
            "remote: Compressing objects: 100% (15/15), done.\u001b[K\n",
            "remote: Total 14010 (delta 13), reused 25 (delta 13), pack-reused 13982\u001b[K\n",
            "Receiving objects: 100% (14010/14010), 13.23 MiB | 26.62 MiB/s, done.\n",
            "Resolving deltas: 100% (9667/9667), done.\n",
            "/content/yolov5\n",
            "HEAD is now at fbe67e4 Fix `OMP_NUM_THREADS=1` for macOS (#8624)\n"
          ]
        }
      ]
    },
    {
      "cell_type": "code",
      "source": [
        "# install dependencies as necessary\n",
        "!pip install -qr requirements.txt  # install dependencies (ignore errors)\n",
        "import torch\n",
        "\n",
        "from IPython.display import Image, clear_output  # to display images\n",
        "from utils.downloads import attempt_download  # to download models/datasets\n",
        "\n",
        "# clear_output()\n",
        "print('Setup complete. Using torch %s %s' % (torch.__version__, torch.cuda.get_device_properties(0) if torch.cuda.is_available() else 'CPU'))"
      ],
      "metadata": {
        "colab": {
          "base_uri": "https://localhost:8080/"
        },
        "id": "dCzr_Q1jHAQ4",
        "outputId": "a2a34ae3-bdfd-4a4b-9240-d5cbba072441"
      },
      "execution_count": 3,
      "outputs": [
        {
          "output_type": "stream",
          "name": "stdout",
          "text": [
            "Setup complete. Using torch 1.12.1+cu113 CPU\n"
          ]
        }
      ]
    },
    {
      "cell_type": "code",
      "source": [
        "from google.colab import drive\n",
        "import os\n",
        "\n",
        "drive.mount('/content/gdrive')"
      ],
      "metadata": {
        "colab": {
          "base_uri": "https://localhost:8080/"
        },
        "id": "7uRP12nFHR96",
        "outputId": "17b8fba4-b17f-4e3b-bdcd-5f37c11aef6b"
      },
      "execution_count": 4,
      "outputs": [
        {
          "output_type": "stream",
          "name": "stdout",
          "text": [
            "Mounted at /content/gdrive\n"
          ]
        }
      ]
    },
    {
      "cell_type": "code",
      "source": [
        "#follow the link below to get your download code from from Roboflow\n",
        "!pip install -q roboflow"
      ],
      "metadata": {
        "colab": {
          "base_uri": "https://localhost:8080/"
        },
        "id": "ZcqVrFiuHmcT",
        "outputId": "283d3e43-b92e-471c-c3e6-ad194bf90a63"
      },
      "execution_count": 5,
      "outputs": [
        {
          "output_type": "stream",
          "name": "stdout",
          "text": [
            "\u001b[K     |████████████████████████████████| 145 kB 8.4 MB/s \n",
            "\u001b[K     |████████████████████████████████| 178 kB 11.2 MB/s \n",
            "\u001b[K     |████████████████████████████████| 1.1 MB 40.6 MB/s \n",
            "\u001b[K     |████████████████████████████████| 54 kB 2.8 MB/s \n",
            "\u001b[K     |████████████████████████████████| 67 kB 5.8 MB/s \n",
            "\u001b[K     |████████████████████████████████| 138 kB 44.2 MB/s \n",
            "\u001b[K     |████████████████████████████████| 62 kB 1.5 MB/s \n",
            "\u001b[?25h  Building wheel for wget (setup.py) ... \u001b[?25l\u001b[?25hdone\n"
          ]
        }
      ]
    },
    {
      "cell_type": "code",
      "source": [
        "%ls /content/gdrive/MyDrive/CEIA/TPS/CVII/SRC/Video"
      ],
      "metadata": {
        "colab": {
          "base_uri": "https://localhost:8080/"
        },
        "id": "cmj0jkAIFo6U",
        "outputId": "d5506dae-0627-4def-f702-c1628bb3dc3a"
      },
      "execution_count": 7,
      "outputs": [
        {
          "output_type": "stream",
          "name": "stdout",
          "text": [
            "save_predictions.ipynb  video.mp4\n"
          ]
        }
      ]
    },
    {
      "cell_type": "code",
      "source": [
        "%cd /content/yolov5/\n",
        "# !python detect.py --weights /content/gdrive/MyDrive/CEIA/TPS/CVII/SRC/YOLOv5/results_1500_epochs_L_No_frozen_32_batch/weights/best.pt --img 416 --conf 0.4 --source ./Handgun-1/test/images\n",
        "# !python detect.py --weights /content/gdrive/MyDrive/CEIA/TPS/CVII/SRC/YOLOv5/results_1500_epochs_L_No_frozen_32_batch/weights/best.pt --img 416 --conf 0.4 --source ./Handgun-1/test/images --save-txt --save-conf\n",
        "!python detect.py --weights /content/gdrive/MyDrive/CEIA/TPS/CVII/SRC/YOLOv5/results_1500_epochs_L_No_frozen_32_batch/weights/best.pt --source /content/gdrive/MyDrive/CEIA/TPS/CVII/SRC/Video/video_short.mp4 --conf 0.8 --name video_exp\n"
      ],
      "metadata": {
        "colab": {
          "base_uri": "https://localhost:8080/"
        },
        "id": "6HqlB-OpIWnr",
        "outputId": "9e5d1bff-e8cc-409d-bb17-6f13f85910fb"
      },
      "execution_count": 15,
      "outputs": [
        {
          "output_type": "stream",
          "name": "stdout",
          "text": [
            "/content/yolov5\n",
            "\u001b[34m\u001b[1mdetect: \u001b[0mweights=['/content/gdrive/MyDrive/CEIA/TPS/CVII/SRC/YOLOv5/results_1500_epochs_L_No_frozen_32_batch/weights/best.pt'], source=/content/gdrive/MyDrive/CEIA/TPS/CVII/SRC/Video/video_short.mp4, data=data/coco128.yaml, imgsz=[640, 640], conf_thres=0.8, iou_thres=0.45, max_det=1000, device=, view_img=False, save_txt=False, save_conf=False, save_crop=False, nosave=False, classes=None, agnostic_nms=False, augment=False, visualize=False, update=False, project=runs/detect, name=video_exp, exist_ok=False, line_thickness=3, hide_labels=False, hide_conf=False, half=False, dnn=False\n",
            "YOLOv5 🚀 v6.1-306-gfbe67e4 Python-3.7.14 torch-1.12.1+cu113 CPU\n",
            "\n",
            "Fusing layers... \n",
            "custom_YOLOv5s summary: 232 layers, 7246518 parameters, 0 gradients, 16.7 GFLOPs\n",
            "video 1/1 (1/320) /content/gdrive/MyDrive/CEIA/TPS/CVII/SRC/Video/video_short.mp4: 384x640 Done. (0.419s)\n",
            "video 1/1 (2/320) /content/gdrive/MyDrive/CEIA/TPS/CVII/SRC/Video/video_short.mp4: 384x640 Done. (0.518s)\n",
            "video 1/1 (3/320) /content/gdrive/MyDrive/CEIA/TPS/CVII/SRC/Video/video_short.mp4: 384x640 Done. (0.310s)\n",
            "video 1/1 (4/320) /content/gdrive/MyDrive/CEIA/TPS/CVII/SRC/Video/video_short.mp4: 384x640 Done. (0.446s)\n",
            "video 1/1 (5/320) /content/gdrive/MyDrive/CEIA/TPS/CVII/SRC/Video/video_short.mp4: 384x640 Done. (0.315s)\n",
            "video 1/1 (6/320) /content/gdrive/MyDrive/CEIA/TPS/CVII/SRC/Video/video_short.mp4: 384x640 Done. (0.285s)\n",
            "video 1/1 (7/320) /content/gdrive/MyDrive/CEIA/TPS/CVII/SRC/Video/video_short.mp4: 384x640 Done. (0.281s)\n",
            "video 1/1 (8/320) /content/gdrive/MyDrive/CEIA/TPS/CVII/SRC/Video/video_short.mp4: 384x640 Done. (0.289s)\n",
            "video 1/1 (9/320) /content/gdrive/MyDrive/CEIA/TPS/CVII/SRC/Video/video_short.mp4: 384x640 Done. (0.277s)\n",
            "video 1/1 (10/320) /content/gdrive/MyDrive/CEIA/TPS/CVII/SRC/Video/video_short.mp4: 384x640 Done. (0.277s)\n",
            "video 1/1 (11/320) /content/gdrive/MyDrive/CEIA/TPS/CVII/SRC/Video/video_short.mp4: 384x640 Done. (0.283s)\n",
            "video 1/1 (12/320) /content/gdrive/MyDrive/CEIA/TPS/CVII/SRC/Video/video_short.mp4: 384x640 Done. (0.287s)\n",
            "video 1/1 (13/320) /content/gdrive/MyDrive/CEIA/TPS/CVII/SRC/Video/video_short.mp4: 384x640 Done. (0.283s)\n",
            "video 1/1 (14/320) /content/gdrive/MyDrive/CEIA/TPS/CVII/SRC/Video/video_short.mp4: 384x640 Done. (0.289s)\n",
            "video 1/1 (15/320) /content/gdrive/MyDrive/CEIA/TPS/CVII/SRC/Video/video_short.mp4: 384x640 Done. (0.383s)\n",
            "video 1/1 (16/320) /content/gdrive/MyDrive/CEIA/TPS/CVII/SRC/Video/video_short.mp4: 384x640 Done. (0.391s)\n",
            "video 1/1 (17/320) /content/gdrive/MyDrive/CEIA/TPS/CVII/SRC/Video/video_short.mp4: 384x640 Done. (0.281s)\n",
            "video 1/1 (18/320) /content/gdrive/MyDrive/CEIA/TPS/CVII/SRC/Video/video_short.mp4: 384x640 Done. (0.291s)\n",
            "video 1/1 (19/320) /content/gdrive/MyDrive/CEIA/TPS/CVII/SRC/Video/video_short.mp4: 384x640 Done. (0.278s)\n",
            "video 1/1 (20/320) /content/gdrive/MyDrive/CEIA/TPS/CVII/SRC/Video/video_short.mp4: 384x640 Done. (0.276s)\n",
            "video 1/1 (21/320) /content/gdrive/MyDrive/CEIA/TPS/CVII/SRC/Video/video_short.mp4: 384x640 Done. (0.288s)\n",
            "video 1/1 (22/320) /content/gdrive/MyDrive/CEIA/TPS/CVII/SRC/Video/video_short.mp4: 384x640 Done. (0.274s)\n",
            "video 1/1 (23/320) /content/gdrive/MyDrive/CEIA/TPS/CVII/SRC/Video/video_short.mp4: 384x640 Done. (0.277s)\n",
            "video 1/1 (24/320) /content/gdrive/MyDrive/CEIA/TPS/CVII/SRC/Video/video_short.mp4: 384x640 Done. (0.271s)\n",
            "video 1/1 (25/320) /content/gdrive/MyDrive/CEIA/TPS/CVII/SRC/Video/video_short.mp4: 384x640 Done. (0.283s)\n",
            "video 1/1 (26/320) /content/gdrive/MyDrive/CEIA/TPS/CVII/SRC/Video/video_short.mp4: 384x640 Done. (0.274s)\n",
            "video 1/1 (27/320) /content/gdrive/MyDrive/CEIA/TPS/CVII/SRC/Video/video_short.mp4: 384x640 Done. (0.274s)\n",
            "video 1/1 (28/320) /content/gdrive/MyDrive/CEIA/TPS/CVII/SRC/Video/video_short.mp4: 384x640 Done. (0.285s)\n",
            "video 1/1 (29/320) /content/gdrive/MyDrive/CEIA/TPS/CVII/SRC/Video/video_short.mp4: 384x640 Done. (0.275s)\n",
            "video 1/1 (30/320) /content/gdrive/MyDrive/CEIA/TPS/CVII/SRC/Video/video_short.mp4: 384x640 Done. (0.291s)\n",
            "video 1/1 (31/320) /content/gdrive/MyDrive/CEIA/TPS/CVII/SRC/Video/video_short.mp4: 384x640 Done. (0.280s)\n",
            "video 1/1 (32/320) /content/gdrive/MyDrive/CEIA/TPS/CVII/SRC/Video/video_short.mp4: 384x640 Done. (0.284s)\n",
            "video 1/1 (33/320) /content/gdrive/MyDrive/CEIA/TPS/CVII/SRC/Video/video_short.mp4: 384x640 Done. (0.281s)\n",
            "video 1/1 (34/320) /content/gdrive/MyDrive/CEIA/TPS/CVII/SRC/Video/video_short.mp4: 384x640 Done. (0.269s)\n",
            "video 1/1 (35/320) /content/gdrive/MyDrive/CEIA/TPS/CVII/SRC/Video/video_short.mp4: 384x640 Done. (0.285s)\n",
            "video 1/1 (36/320) /content/gdrive/MyDrive/CEIA/TPS/CVII/SRC/Video/video_short.mp4: 384x640 Done. (0.270s)\n",
            "video 1/1 (37/320) /content/gdrive/MyDrive/CEIA/TPS/CVII/SRC/Video/video_short.mp4: 384x640 Done. (0.276s)\n",
            "video 1/1 (38/320) /content/gdrive/MyDrive/CEIA/TPS/CVII/SRC/Video/video_short.mp4: 384x640 Done. (0.325s)\n",
            "video 1/1 (39/320) /content/gdrive/MyDrive/CEIA/TPS/CVII/SRC/Video/video_short.mp4: 384x640 Done. (0.499s)\n",
            "video 1/1 (40/320) /content/gdrive/MyDrive/CEIA/TPS/CVII/SRC/Video/video_short.mp4: 384x640 Done. (0.300s)\n",
            "video 1/1 (41/320) /content/gdrive/MyDrive/CEIA/TPS/CVII/SRC/Video/video_short.mp4: 384x640 Done. (0.291s)\n",
            "video 1/1 (42/320) /content/gdrive/MyDrive/CEIA/TPS/CVII/SRC/Video/video_short.mp4: 384x640 Done. (0.302s)\n",
            "video 1/1 (43/320) /content/gdrive/MyDrive/CEIA/TPS/CVII/SRC/Video/video_short.mp4: 384x640 Done. (0.289s)\n",
            "video 1/1 (44/320) /content/gdrive/MyDrive/CEIA/TPS/CVII/SRC/Video/video_short.mp4: 384x640 Done. (0.277s)\n",
            "video 1/1 (45/320) /content/gdrive/MyDrive/CEIA/TPS/CVII/SRC/Video/video_short.mp4: 384x640 Done. (0.292s)\n",
            "video 1/1 (46/320) /content/gdrive/MyDrive/CEIA/TPS/CVII/SRC/Video/video_short.mp4: 384x640 Done. (0.278s)\n",
            "video 1/1 (47/320) /content/gdrive/MyDrive/CEIA/TPS/CVII/SRC/Video/video_short.mp4: 384x640 Done. (0.276s)\n",
            "video 1/1 (48/320) /content/gdrive/MyDrive/CEIA/TPS/CVII/SRC/Video/video_short.mp4: 384x640 Done. (0.289s)\n",
            "video 1/1 (49/320) /content/gdrive/MyDrive/CEIA/TPS/CVII/SRC/Video/video_short.mp4: 384x640 Done. (0.283s)\n",
            "video 1/1 (50/320) /content/gdrive/MyDrive/CEIA/TPS/CVII/SRC/Video/video_short.mp4: 384x640 Done. (0.286s)\n",
            "video 1/1 (51/320) /content/gdrive/MyDrive/CEIA/TPS/CVII/SRC/Video/video_short.mp4: 384x640 Done. (0.281s)\n",
            "video 1/1 (52/320) /content/gdrive/MyDrive/CEIA/TPS/CVII/SRC/Video/video_short.mp4: 384x640 Done. (0.292s)\n",
            "video 1/1 (53/320) /content/gdrive/MyDrive/CEIA/TPS/CVII/SRC/Video/video_short.mp4: 384x640 Done. (0.284s)\n",
            "video 1/1 (54/320) /content/gdrive/MyDrive/CEIA/TPS/CVII/SRC/Video/video_short.mp4: 384x640 Done. (0.274s)\n",
            "video 1/1 (55/320) /content/gdrive/MyDrive/CEIA/TPS/CVII/SRC/Video/video_short.mp4: 384x640 Done. (0.296s)\n",
            "video 1/1 (56/320) /content/gdrive/MyDrive/CEIA/TPS/CVII/SRC/Video/video_short.mp4: 384x640 Done. (0.278s)\n",
            "video 1/1 (57/320) /content/gdrive/MyDrive/CEIA/TPS/CVII/SRC/Video/video_short.mp4: 384x640 Done. (0.410s)\n",
            "video 1/1 (58/320) /content/gdrive/MyDrive/CEIA/TPS/CVII/SRC/Video/video_short.mp4: 384x640 Done. (0.290s)\n",
            "video 1/1 (59/320) /content/gdrive/MyDrive/CEIA/TPS/CVII/SRC/Video/video_short.mp4: 384x640 Done. (0.331s)\n",
            "video 1/1 (60/320) /content/gdrive/MyDrive/CEIA/TPS/CVII/SRC/Video/video_short.mp4: 384x640 Done. (0.418s)\n",
            "video 1/1 (61/320) /content/gdrive/MyDrive/CEIA/TPS/CVII/SRC/Video/video_short.mp4: 384x640 Done. (0.287s)\n",
            "video 1/1 (62/320) /content/gdrive/MyDrive/CEIA/TPS/CVII/SRC/Video/video_short.mp4: 384x640 Done. (0.293s)\n",
            "video 1/1 (63/320) /content/gdrive/MyDrive/CEIA/TPS/CVII/SRC/Video/video_short.mp4: 384x640 Done. (0.317s)\n",
            "video 1/1 (64/320) /content/gdrive/MyDrive/CEIA/TPS/CVII/SRC/Video/video_short.mp4: 384x640 Done. (0.376s)\n",
            "video 1/1 (65/320) /content/gdrive/MyDrive/CEIA/TPS/CVII/SRC/Video/video_short.mp4: 384x640 Done. (0.282s)\n",
            "video 1/1 (66/320) /content/gdrive/MyDrive/CEIA/TPS/CVII/SRC/Video/video_short.mp4: 384x640 Done. (0.279s)\n",
            "video 1/1 (67/320) /content/gdrive/MyDrive/CEIA/TPS/CVII/SRC/Video/video_short.mp4: 384x640 Done. (0.289s)\n",
            "video 1/1 (68/320) /content/gdrive/MyDrive/CEIA/TPS/CVII/SRC/Video/video_short.mp4: 384x640 Done. (0.283s)\n",
            "video 1/1 (69/320) /content/gdrive/MyDrive/CEIA/TPS/CVII/SRC/Video/video_short.mp4: 384x640 Done. (0.283s)\n",
            "video 1/1 (70/320) /content/gdrive/MyDrive/CEIA/TPS/CVII/SRC/Video/video_short.mp4: 384x640 Done. (0.275s)\n",
            "video 1/1 (71/320) /content/gdrive/MyDrive/CEIA/TPS/CVII/SRC/Video/video_short.mp4: 384x640 Done. (0.286s)\n",
            "video 1/1 (72/320) /content/gdrive/MyDrive/CEIA/TPS/CVII/SRC/Video/video_short.mp4: 384x640 Done. (0.281s)\n",
            "video 1/1 (73/320) /content/gdrive/MyDrive/CEIA/TPS/CVII/SRC/Video/video_short.mp4: 384x640 Done. (0.277s)\n",
            "video 1/1 (74/320) /content/gdrive/MyDrive/CEIA/TPS/CVII/SRC/Video/video_short.mp4: 384x640 Done. (0.313s)\n",
            "video 1/1 (75/320) /content/gdrive/MyDrive/CEIA/TPS/CVII/SRC/Video/video_short.mp4: 384x640 Done. (0.283s)\n",
            "video 1/1 (76/320) /content/gdrive/MyDrive/CEIA/TPS/CVII/SRC/Video/video_short.mp4: 384x640 Done. (0.274s)\n",
            "video 1/1 (77/320) /content/gdrive/MyDrive/CEIA/TPS/CVII/SRC/Video/video_short.mp4: 384x640 Done. (0.274s)\n",
            "video 1/1 (78/320) /content/gdrive/MyDrive/CEIA/TPS/CVII/SRC/Video/video_short.mp4: 384x640 Done. (0.291s)\n",
            "video 1/1 (79/320) /content/gdrive/MyDrive/CEIA/TPS/CVII/SRC/Video/video_short.mp4: 384x640 Done. (0.279s)\n",
            "video 1/1 (80/320) /content/gdrive/MyDrive/CEIA/TPS/CVII/SRC/Video/video_short.mp4: 384x640 Done. (0.278s)\n",
            "video 1/1 (81/320) /content/gdrive/MyDrive/CEIA/TPS/CVII/SRC/Video/video_short.mp4: 384x640 Done. (0.284s)\n",
            "video 1/1 (82/320) /content/gdrive/MyDrive/CEIA/TPS/CVII/SRC/Video/video_short.mp4: 384x640 Done. (0.275s)\n",
            "video 1/1 (83/320) /content/gdrive/MyDrive/CEIA/TPS/CVII/SRC/Video/video_short.mp4: 384x640 Done. (0.277s)\n",
            "video 1/1 (84/320) /content/gdrive/MyDrive/CEIA/TPS/CVII/SRC/Video/video_short.mp4: 384x640 Done. (0.287s)\n",
            "video 1/1 (85/320) /content/gdrive/MyDrive/CEIA/TPS/CVII/SRC/Video/video_short.mp4: 384x640 Done. (0.296s)\n",
            "video 1/1 (86/320) /content/gdrive/MyDrive/CEIA/TPS/CVII/SRC/Video/video_short.mp4: 384x640 Done. (0.277s)\n",
            "video 1/1 (87/320) /content/gdrive/MyDrive/CEIA/TPS/CVII/SRC/Video/video_short.mp4: 384x640 Done. (0.289s)\n",
            "video 1/1 (88/320) /content/gdrive/MyDrive/CEIA/TPS/CVII/SRC/Video/video_short.mp4: 384x640 Done. (0.285s)\n",
            "video 1/1 (89/320) /content/gdrive/MyDrive/CEIA/TPS/CVII/SRC/Video/video_short.mp4: 384x640 Done. (0.286s)\n",
            "video 1/1 (90/320) /content/gdrive/MyDrive/CEIA/TPS/CVII/SRC/Video/video_short.mp4: 384x640 Done. (0.287s)\n",
            "video 1/1 (91/320) /content/gdrive/MyDrive/CEIA/TPS/CVII/SRC/Video/video_short.mp4: 384x640 Done. (0.293s)\n",
            "video 1/1 (92/320) /content/gdrive/MyDrive/CEIA/TPS/CVII/SRC/Video/video_short.mp4: 384x640 Done. (0.279s)\n",
            "video 1/1 (93/320) /content/gdrive/MyDrive/CEIA/TPS/CVII/SRC/Video/video_short.mp4: 384x640 Done. (0.280s)\n",
            "video 1/1 (94/320) /content/gdrive/MyDrive/CEIA/TPS/CVII/SRC/Video/video_short.mp4: 384x640 Done. (0.283s)\n",
            "video 1/1 (95/320) /content/gdrive/MyDrive/CEIA/TPS/CVII/SRC/Video/video_short.mp4: 384x640 Done. (0.284s)\n",
            "video 1/1 (96/320) /content/gdrive/MyDrive/CEIA/TPS/CVII/SRC/Video/video_short.mp4: 384x640 Done. (0.280s)\n",
            "video 1/1 (97/320) /content/gdrive/MyDrive/CEIA/TPS/CVII/SRC/Video/video_short.mp4: 384x640 Done. (0.277s)\n",
            "video 1/1 (98/320) /content/gdrive/MyDrive/CEIA/TPS/CVII/SRC/Video/video_short.mp4: 384x640 Done. (0.285s)\n",
            "video 1/1 (99/320) /content/gdrive/MyDrive/CEIA/TPS/CVII/SRC/Video/video_short.mp4: 384x640 Done. (0.285s)\n",
            "video 1/1 (100/320) /content/gdrive/MyDrive/CEIA/TPS/CVII/SRC/Video/video_short.mp4: 384x640 Done. (0.281s)\n",
            "video 1/1 (101/320) /content/gdrive/MyDrive/CEIA/TPS/CVII/SRC/Video/video_short.mp4: 384x640 Done. (0.271s)\n",
            "video 1/1 (102/320) /content/gdrive/MyDrive/CEIA/TPS/CVII/SRC/Video/video_short.mp4: 384x640 Done. (0.296s)\n",
            "video 1/1 (103/320) /content/gdrive/MyDrive/CEIA/TPS/CVII/SRC/Video/video_short.mp4: 384x640 Done. (0.277s)\n",
            "video 1/1 (104/320) /content/gdrive/MyDrive/CEIA/TPS/CVII/SRC/Video/video_short.mp4: 384x640 Done. (0.284s)\n",
            "video 1/1 (105/320) /content/gdrive/MyDrive/CEIA/TPS/CVII/SRC/Video/video_short.mp4: 384x640 Done. (0.287s)\n",
            "video 1/1 (106/320) /content/gdrive/MyDrive/CEIA/TPS/CVII/SRC/Video/video_short.mp4: 384x640 Done. (0.280s)\n",
            "video 1/1 (107/320) /content/gdrive/MyDrive/CEIA/TPS/CVII/SRC/Video/video_short.mp4: 384x640 Done. (0.281s)\n",
            "video 1/1 (108/320) /content/gdrive/MyDrive/CEIA/TPS/CVII/SRC/Video/video_short.mp4: 384x640 Done. (0.272s)\n",
            "video 1/1 (109/320) /content/gdrive/MyDrive/CEIA/TPS/CVII/SRC/Video/video_short.mp4: 384x640 Done. (0.291s)\n",
            "video 1/1 (110/320) /content/gdrive/MyDrive/CEIA/TPS/CVII/SRC/Video/video_short.mp4: 384x640 Done. (0.303s)\n",
            "video 1/1 (111/320) /content/gdrive/MyDrive/CEIA/TPS/CVII/SRC/Video/video_short.mp4: 384x640 Done. (0.277s)\n",
            "video 1/1 (112/320) /content/gdrive/MyDrive/CEIA/TPS/CVII/SRC/Video/video_short.mp4: 384x640 Done. (0.290s)\n",
            "video 1/1 (113/320) /content/gdrive/MyDrive/CEIA/TPS/CVII/SRC/Video/video_short.mp4: 384x640 Done. (0.279s)\n",
            "video 1/1 (114/320) /content/gdrive/MyDrive/CEIA/TPS/CVII/SRC/Video/video_short.mp4: 384x640 Done. (0.280s)\n",
            "video 1/1 (115/320) /content/gdrive/MyDrive/CEIA/TPS/CVII/SRC/Video/video_short.mp4: 384x640 Done. (0.271s)\n",
            "video 1/1 (116/320) /content/gdrive/MyDrive/CEIA/TPS/CVII/SRC/Video/video_short.mp4: 384x640 Done. (0.283s)\n",
            "video 1/1 (117/320) /content/gdrive/MyDrive/CEIA/TPS/CVII/SRC/Video/video_short.mp4: 384x640 Done. (0.274s)\n",
            "video 1/1 (118/320) /content/gdrive/MyDrive/CEIA/TPS/CVII/SRC/Video/video_short.mp4: 384x640 Done. (0.274s)\n",
            "video 1/1 (119/320) /content/gdrive/MyDrive/CEIA/TPS/CVII/SRC/Video/video_short.mp4: 384x640 Done. (0.289s)\n",
            "video 1/1 (120/320) /content/gdrive/MyDrive/CEIA/TPS/CVII/SRC/Video/video_short.mp4: 384x640 Done. (0.281s)\n",
            "video 1/1 (121/320) /content/gdrive/MyDrive/CEIA/TPS/CVII/SRC/Video/video_short.mp4: 384x640 Done. (0.278s)\n",
            "video 1/1 (122/320) /content/gdrive/MyDrive/CEIA/TPS/CVII/SRC/Video/video_short.mp4: 384x640 Done. (0.279s)\n",
            "video 1/1 (123/320) /content/gdrive/MyDrive/CEIA/TPS/CVII/SRC/Video/video_short.mp4: 384x640 Done. (0.285s)\n",
            "video 1/1 (124/320) /content/gdrive/MyDrive/CEIA/TPS/CVII/SRC/Video/video_short.mp4: 384x640 Done. (0.274s)\n",
            "video 1/1 (125/320) /content/gdrive/MyDrive/CEIA/TPS/CVII/SRC/Video/video_short.mp4: 384x640 Done. (0.276s)\n",
            "video 1/1 (126/320) /content/gdrive/MyDrive/CEIA/TPS/CVII/SRC/Video/video_short.mp4: 384x640 Done. (0.287s)\n",
            "video 1/1 (127/320) /content/gdrive/MyDrive/CEIA/TPS/CVII/SRC/Video/video_short.mp4: 384x640 Done. (0.277s)\n",
            "video 1/1 (128/320) /content/gdrive/MyDrive/CEIA/TPS/CVII/SRC/Video/video_short.mp4: 384x640 Done. (0.271s)\n",
            "video 1/1 (129/320) /content/gdrive/MyDrive/CEIA/TPS/CVII/SRC/Video/video_short.mp4: 384x640 Done. (0.277s)\n",
            "video 1/1 (130/320) /content/gdrive/MyDrive/CEIA/TPS/CVII/SRC/Video/video_short.mp4: 384x640 Done. (0.290s)\n",
            "video 1/1 (131/320) /content/gdrive/MyDrive/CEIA/TPS/CVII/SRC/Video/video_short.mp4: 384x640 Done. (0.273s)\n",
            "video 1/1 (132/320) /content/gdrive/MyDrive/CEIA/TPS/CVII/SRC/Video/video_short.mp4: 384x640 Done. (0.279s)\n",
            "video 1/1 (133/320) /content/gdrive/MyDrive/CEIA/TPS/CVII/SRC/Video/video_short.mp4: 384x640 Done. (0.285s)\n",
            "video 1/1 (134/320) /content/gdrive/MyDrive/CEIA/TPS/CVII/SRC/Video/video_short.mp4: 384x640 Done. (0.274s)\n",
            "video 1/1 (135/320) /content/gdrive/MyDrive/CEIA/TPS/CVII/SRC/Video/video_short.mp4: 384x640 Done. (0.278s)\n",
            "video 1/1 (136/320) /content/gdrive/MyDrive/CEIA/TPS/CVII/SRC/Video/video_short.mp4: 384x640 Done. (0.276s)\n",
            "video 1/1 (137/320) /content/gdrive/MyDrive/CEIA/TPS/CVII/SRC/Video/video_short.mp4: 384x640 Done. (0.287s)\n",
            "video 1/1 (138/320) /content/gdrive/MyDrive/CEIA/TPS/CVII/SRC/Video/video_short.mp4: 384x640 Done. (0.280s)\n",
            "video 1/1 (139/320) /content/gdrive/MyDrive/CEIA/TPS/CVII/SRC/Video/video_short.mp4: 384x640 Done. (0.276s)\n",
            "video 1/1 (140/320) /content/gdrive/MyDrive/CEIA/TPS/CVII/SRC/Video/video_short.mp4: 384x640 Done. (0.287s)\n",
            "video 1/1 (141/320) /content/gdrive/MyDrive/CEIA/TPS/CVII/SRC/Video/video_short.mp4: 384x640 Done. (0.279s)\n",
            "video 1/1 (142/320) /content/gdrive/MyDrive/CEIA/TPS/CVII/SRC/Video/video_short.mp4: 384x640 Done. (0.278s)\n",
            "video 1/1 (143/320) /content/gdrive/MyDrive/CEIA/TPS/CVII/SRC/Video/video_short.mp4: 384x640 Done. (0.284s)\n",
            "video 1/1 (144/320) /content/gdrive/MyDrive/CEIA/TPS/CVII/SRC/Video/video_short.mp4: 384x640 Done. (0.275s)\n",
            "video 1/1 (145/320) /content/gdrive/MyDrive/CEIA/TPS/CVII/SRC/Video/video_short.mp4: 384x640 Done. (0.282s)\n",
            "video 1/1 (146/320) /content/gdrive/MyDrive/CEIA/TPS/CVII/SRC/Video/video_short.mp4: 384x640 Done. (0.303s)\n",
            "video 1/1 (147/320) /content/gdrive/MyDrive/CEIA/TPS/CVII/SRC/Video/video_short.mp4: 384x640 Done. (0.284s)\n",
            "video 1/1 (148/320) /content/gdrive/MyDrive/CEIA/TPS/CVII/SRC/Video/video_short.mp4: 384x640 Done. (0.277s)\n",
            "video 1/1 (149/320) /content/gdrive/MyDrive/CEIA/TPS/CVII/SRC/Video/video_short.mp4: 384x640 Done. (0.275s)\n",
            "video 1/1 (150/320) /content/gdrive/MyDrive/CEIA/TPS/CVII/SRC/Video/video_short.mp4: 384x640 Done. (0.292s)\n",
            "video 1/1 (151/320) /content/gdrive/MyDrive/CEIA/TPS/CVII/SRC/Video/video_short.mp4: 384x640 Done. (0.273s)\n",
            "video 1/1 (152/320) /content/gdrive/MyDrive/CEIA/TPS/CVII/SRC/Video/video_short.mp4: 384x640 Done. (0.273s)\n",
            "video 1/1 (153/320) /content/gdrive/MyDrive/CEIA/TPS/CVII/SRC/Video/video_short.mp4: 384x640 Done. (0.282s)\n",
            "video 1/1 (154/320) /content/gdrive/MyDrive/CEIA/TPS/CVII/SRC/Video/video_short.mp4: 384x640 Done. (0.291s)\n",
            "video 1/1 (155/320) /content/gdrive/MyDrive/CEIA/TPS/CVII/SRC/Video/video_short.mp4: 384x640 Done. (0.278s)\n",
            "video 1/1 (156/320) /content/gdrive/MyDrive/CEIA/TPS/CVII/SRC/Video/video_short.mp4: 384x640 Done. (0.276s)\n",
            "video 1/1 (157/320) /content/gdrive/MyDrive/CEIA/TPS/CVII/SRC/Video/video_short.mp4: 384x640 Done. (0.294s)\n",
            "video 1/1 (158/320) /content/gdrive/MyDrive/CEIA/TPS/CVII/SRC/Video/video_short.mp4: 384x640 Done. (0.282s)\n",
            "video 1/1 (159/320) /content/gdrive/MyDrive/CEIA/TPS/CVII/SRC/Video/video_short.mp4: 384x640 Done. (0.276s)\n",
            "video 1/1 (160/320) /content/gdrive/MyDrive/CEIA/TPS/CVII/SRC/Video/video_short.mp4: 384x640 Done. (0.280s)\n",
            "video 1/1 (161/320) /content/gdrive/MyDrive/CEIA/TPS/CVII/SRC/Video/video_short.mp4: 384x640 Done. (0.289s)\n",
            "video 1/1 (162/320) /content/gdrive/MyDrive/CEIA/TPS/CVII/SRC/Video/video_short.mp4: 384x640 Done. (0.274s)\n",
            "video 1/1 (163/320) /content/gdrive/MyDrive/CEIA/TPS/CVII/SRC/Video/video_short.mp4: 384x640 Done. (0.279s)\n",
            "video 1/1 (164/320) /content/gdrive/MyDrive/CEIA/TPS/CVII/SRC/Video/video_short.mp4: 384x640 Done. (0.295s)\n",
            "video 1/1 (165/320) /content/gdrive/MyDrive/CEIA/TPS/CVII/SRC/Video/video_short.mp4: 384x640 Done. (0.283s)\n",
            "video 1/1 (166/320) /content/gdrive/MyDrive/CEIA/TPS/CVII/SRC/Video/video_short.mp4: 384x640 Done. (0.287s)\n",
            "video 1/1 (167/320) /content/gdrive/MyDrive/CEIA/TPS/CVII/SRC/Video/video_short.mp4: 384x640 Done. (0.278s)\n",
            "video 1/1 (168/320) /content/gdrive/MyDrive/CEIA/TPS/CVII/SRC/Video/video_short.mp4: 384x640 Done. (0.287s)\n",
            "video 1/1 (169/320) /content/gdrive/MyDrive/CEIA/TPS/CVII/SRC/Video/video_short.mp4: 384x640 Done. (0.280s)\n",
            "video 1/1 (170/320) /content/gdrive/MyDrive/CEIA/TPS/CVII/SRC/Video/video_short.mp4: 384x640 Done. (0.284s)\n",
            "video 1/1 (171/320) /content/gdrive/MyDrive/CEIA/TPS/CVII/SRC/Video/video_short.mp4: 384x640 Done. (0.289s)\n",
            "video 1/1 (172/320) /content/gdrive/MyDrive/CEIA/TPS/CVII/SRC/Video/video_short.mp4: 384x640 Done. (0.282s)\n",
            "video 1/1 (173/320) /content/gdrive/MyDrive/CEIA/TPS/CVII/SRC/Video/video_short.mp4: 384x640 Done. (0.445s)\n",
            "video 1/1 (174/320) /content/gdrive/MyDrive/CEIA/TPS/CVII/SRC/Video/video_short.mp4: 384x640 Done. (0.289s)\n",
            "video 1/1 (175/320) /content/gdrive/MyDrive/CEIA/TPS/CVII/SRC/Video/video_short.mp4: 384x640 Done. (0.302s)\n",
            "video 1/1 (176/320) /content/gdrive/MyDrive/CEIA/TPS/CVII/SRC/Video/video_short.mp4: 384x640 Done. (0.302s)\n",
            "video 1/1 (177/320) /content/gdrive/MyDrive/CEIA/TPS/CVII/SRC/Video/video_short.mp4: 384x640 Done. (0.332s)\n",
            "video 1/1 (178/320) /content/gdrive/MyDrive/CEIA/TPS/CVII/SRC/Video/video_short.mp4: 384x640 Done. (0.349s)\n",
            "video 1/1 (179/320) /content/gdrive/MyDrive/CEIA/TPS/CVII/SRC/Video/video_short.mp4: 384x640 Done. (0.313s)\n",
            "video 1/1 (180/320) /content/gdrive/MyDrive/CEIA/TPS/CVII/SRC/Video/video_short.mp4: 384x640 Done. (0.558s)\n",
            "video 1/1 (181/320) /content/gdrive/MyDrive/CEIA/TPS/CVII/SRC/Video/video_short.mp4: 384x640 Done. (0.446s)\n",
            "video 1/1 (182/320) /content/gdrive/MyDrive/CEIA/TPS/CVII/SRC/Video/video_short.mp4: 384x640 Done. (0.374s)\n",
            "video 1/1 (183/320) /content/gdrive/MyDrive/CEIA/TPS/CVII/SRC/Video/video_short.mp4: 384x640 Done. (0.276s)\n",
            "video 1/1 (184/320) /content/gdrive/MyDrive/CEIA/TPS/CVII/SRC/Video/video_short.mp4: 384x640 Done. (0.278s)\n",
            "video 1/1 (185/320) /content/gdrive/MyDrive/CEIA/TPS/CVII/SRC/Video/video_short.mp4: 384x640 Done. (0.321s)\n",
            "video 1/1 (186/320) /content/gdrive/MyDrive/CEIA/TPS/CVII/SRC/Video/video_short.mp4: 384x640 Done. (0.348s)\n",
            "video 1/1 (187/320) /content/gdrive/MyDrive/CEIA/TPS/CVII/SRC/Video/video_short.mp4: 384x640 Done. (0.287s)\n",
            "video 1/1 (188/320) /content/gdrive/MyDrive/CEIA/TPS/CVII/SRC/Video/video_short.mp4: 384x640 Done. (0.313s)\n",
            "video 1/1 (189/320) /content/gdrive/MyDrive/CEIA/TPS/CVII/SRC/Video/video_short.mp4: 384x640 Done. (0.311s)\n",
            "video 1/1 (190/320) /content/gdrive/MyDrive/CEIA/TPS/CVII/SRC/Video/video_short.mp4: 384x640 Done. (0.277s)\n",
            "video 1/1 (191/320) /content/gdrive/MyDrive/CEIA/TPS/CVII/SRC/Video/video_short.mp4: 384x640 Done. (0.296s)\n",
            "video 1/1 (192/320) /content/gdrive/MyDrive/CEIA/TPS/CVII/SRC/Video/video_short.mp4: 384x640 Done. (0.299s)\n",
            "video 1/1 (193/320) /content/gdrive/MyDrive/CEIA/TPS/CVII/SRC/Video/video_short.mp4: 384x640 Done. (0.287s)\n",
            "video 1/1 (194/320) /content/gdrive/MyDrive/CEIA/TPS/CVII/SRC/Video/video_short.mp4: 384x640 Done. (0.325s)\n",
            "video 1/1 (195/320) /content/gdrive/MyDrive/CEIA/TPS/CVII/SRC/Video/video_short.mp4: 384x640 Done. (0.331s)\n",
            "video 1/1 (196/320) /content/gdrive/MyDrive/CEIA/TPS/CVII/SRC/Video/video_short.mp4: 384x640 Done. (0.276s)\n",
            "video 1/1 (197/320) /content/gdrive/MyDrive/CEIA/TPS/CVII/SRC/Video/video_short.mp4: 384x640 Done. (0.281s)\n",
            "video 1/1 (198/320) /content/gdrive/MyDrive/CEIA/TPS/CVII/SRC/Video/video_short.mp4: 384x640 Done. (0.317s)\n",
            "video 1/1 (199/320) /content/gdrive/MyDrive/CEIA/TPS/CVII/SRC/Video/video_short.mp4: 384x640 Done. (0.296s)\n",
            "video 1/1 (200/320) /content/gdrive/MyDrive/CEIA/TPS/CVII/SRC/Video/video_short.mp4: 384x640 Done. (0.322s)\n",
            "video 1/1 (201/320) /content/gdrive/MyDrive/CEIA/TPS/CVII/SRC/Video/video_short.mp4: 384x640 Done. (0.372s)\n",
            "video 1/1 (202/320) /content/gdrive/MyDrive/CEIA/TPS/CVII/SRC/Video/video_short.mp4: 384x640 Done. (0.359s)\n",
            "video 1/1 (203/320) /content/gdrive/MyDrive/CEIA/TPS/CVII/SRC/Video/video_short.mp4: 384x640 Done. (0.275s)\n",
            "video 1/1 (204/320) /content/gdrive/MyDrive/CEIA/TPS/CVII/SRC/Video/video_short.mp4: 384x640 Done. (0.316s)\n",
            "video 1/1 (205/320) /content/gdrive/MyDrive/CEIA/TPS/CVII/SRC/Video/video_short.mp4: 384x640 Done. (0.279s)\n",
            "video 1/1 (206/320) /content/gdrive/MyDrive/CEIA/TPS/CVII/SRC/Video/video_short.mp4: 384x640 Done. (0.298s)\n",
            "video 1/1 (207/320) /content/gdrive/MyDrive/CEIA/TPS/CVII/SRC/Video/video_short.mp4: 384x640 1 Handgun, Done. (0.326s)\n",
            "video 1/1 (208/320) /content/gdrive/MyDrive/CEIA/TPS/CVII/SRC/Video/video_short.mp4: 384x640 1 Handgun, Done. (0.351s)\n",
            "video 1/1 (209/320) /content/gdrive/MyDrive/CEIA/TPS/CVII/SRC/Video/video_short.mp4: 384x640 1 Handgun, Done. (0.297s)\n",
            "video 1/1 (210/320) /content/gdrive/MyDrive/CEIA/TPS/CVII/SRC/Video/video_short.mp4: 384x640 1 Handgun, Done. (0.290s)\n",
            "video 1/1 (211/320) /content/gdrive/MyDrive/CEIA/TPS/CVII/SRC/Video/video_short.mp4: 384x640 1 Handgun, Done. (0.311s)\n",
            "video 1/1 (212/320) /content/gdrive/MyDrive/CEIA/TPS/CVII/SRC/Video/video_short.mp4: 384x640 1 Handgun, Done. (0.327s)\n",
            "video 1/1 (213/320) /content/gdrive/MyDrive/CEIA/TPS/CVII/SRC/Video/video_short.mp4: 384x640 1 Handgun, Done. (0.291s)\n",
            "video 1/1 (214/320) /content/gdrive/MyDrive/CEIA/TPS/CVII/SRC/Video/video_short.mp4: 384x640 1 Handgun, Done. (0.280s)\n",
            "video 1/1 (215/320) /content/gdrive/MyDrive/CEIA/TPS/CVII/SRC/Video/video_short.mp4: 384x640 Done. (0.287s)\n",
            "video 1/1 (216/320) /content/gdrive/MyDrive/CEIA/TPS/CVII/SRC/Video/video_short.mp4: 384x640 Done. (0.275s)\n",
            "video 1/1 (217/320) /content/gdrive/MyDrive/CEIA/TPS/CVII/SRC/Video/video_short.mp4: 384x640 Done. (0.281s)\n",
            "video 1/1 (218/320) /content/gdrive/MyDrive/CEIA/TPS/CVII/SRC/Video/video_short.mp4: 384x640 Done. (0.283s)\n",
            "video 1/1 (219/320) /content/gdrive/MyDrive/CEIA/TPS/CVII/SRC/Video/video_short.mp4: 384x640 1 Handgun, Done. (0.311s)\n",
            "video 1/1 (220/320) /content/gdrive/MyDrive/CEIA/TPS/CVII/SRC/Video/video_short.mp4: 384x640 1 Handgun, Done. (0.291s)\n",
            "video 1/1 (221/320) /content/gdrive/MyDrive/CEIA/TPS/CVII/SRC/Video/video_short.mp4: 384x640 1 Handgun, Done. (0.280s)\n",
            "video 1/1 (222/320) /content/gdrive/MyDrive/CEIA/TPS/CVII/SRC/Video/video_short.mp4: 384x640 1 Handgun, Done. (0.279s)\n",
            "video 1/1 (223/320) /content/gdrive/MyDrive/CEIA/TPS/CVII/SRC/Video/video_short.mp4: 384x640 Done. (0.285s)\n",
            "video 1/1 (224/320) /content/gdrive/MyDrive/CEIA/TPS/CVII/SRC/Video/video_short.mp4: 384x640 Done. (0.285s)\n",
            "video 1/1 (225/320) /content/gdrive/MyDrive/CEIA/TPS/CVII/SRC/Video/video_short.mp4: 384x640 Done. (0.278s)\n",
            "video 1/1 (226/320) /content/gdrive/MyDrive/CEIA/TPS/CVII/SRC/Video/video_short.mp4: 384x640 1 Handgun, Done. (0.275s)\n",
            "video 1/1 (227/320) /content/gdrive/MyDrive/CEIA/TPS/CVII/SRC/Video/video_short.mp4: 384x640 Done. (0.285s)\n",
            "video 1/1 (228/320) /content/gdrive/MyDrive/CEIA/TPS/CVII/SRC/Video/video_short.mp4: 384x640 Done. (0.283s)\n",
            "video 1/1 (229/320) /content/gdrive/MyDrive/CEIA/TPS/CVII/SRC/Video/video_short.mp4: 384x640 Done. (0.274s)\n",
            "video 1/1 (230/320) /content/gdrive/MyDrive/CEIA/TPS/CVII/SRC/Video/video_short.mp4: 384x640 Done. (0.296s)\n",
            "video 1/1 (231/320) /content/gdrive/MyDrive/CEIA/TPS/CVII/SRC/Video/video_short.mp4: 384x640 Done. (0.277s)\n",
            "video 1/1 (232/320) /content/gdrive/MyDrive/CEIA/TPS/CVII/SRC/Video/video_short.mp4: 384x640 Done. (0.276s)\n",
            "video 1/1 (233/320) /content/gdrive/MyDrive/CEIA/TPS/CVII/SRC/Video/video_short.mp4: 384x640 Done. (0.278s)\n",
            "video 1/1 (234/320) /content/gdrive/MyDrive/CEIA/TPS/CVII/SRC/Video/video_short.mp4: 384x640 Done. (0.284s)\n",
            "video 1/1 (235/320) /content/gdrive/MyDrive/CEIA/TPS/CVII/SRC/Video/video_short.mp4: 384x640 Done. (0.282s)\n",
            "video 1/1 (236/320) /content/gdrive/MyDrive/CEIA/TPS/CVII/SRC/Video/video_short.mp4: 384x640 Done. (0.289s)\n",
            "video 1/1 (237/320) /content/gdrive/MyDrive/CEIA/TPS/CVII/SRC/Video/video_short.mp4: 384x640 Done. (0.285s)\n",
            "video 1/1 (238/320) /content/gdrive/MyDrive/CEIA/TPS/CVII/SRC/Video/video_short.mp4: 384x640 Done. (0.280s)\n",
            "video 1/1 (239/320) /content/gdrive/MyDrive/CEIA/TPS/CVII/SRC/Video/video_short.mp4: 384x640 Done. (0.279s)\n",
            "video 1/1 (240/320) /content/gdrive/MyDrive/CEIA/TPS/CVII/SRC/Video/video_short.mp4: 384x640 Done. (0.282s)\n",
            "video 1/1 (241/320) /content/gdrive/MyDrive/CEIA/TPS/CVII/SRC/Video/video_short.mp4: 384x640 Done. (0.284s)\n",
            "video 1/1 (242/320) /content/gdrive/MyDrive/CEIA/TPS/CVII/SRC/Video/video_short.mp4: 384x640 Done. (0.277s)\n",
            "video 1/1 (243/320) /content/gdrive/MyDrive/CEIA/TPS/CVII/SRC/Video/video_short.mp4: 384x640 Done. (0.289s)\n",
            "video 1/1 (244/320) /content/gdrive/MyDrive/CEIA/TPS/CVII/SRC/Video/video_short.mp4: 384x640 Done. (0.293s)\n",
            "video 1/1 (245/320) /content/gdrive/MyDrive/CEIA/TPS/CVII/SRC/Video/video_short.mp4: 384x640 Done. (0.286s)\n",
            "video 1/1 (246/320) /content/gdrive/MyDrive/CEIA/TPS/CVII/SRC/Video/video_short.mp4: 384x640 Done. (0.279s)\n",
            "video 1/1 (247/320) /content/gdrive/MyDrive/CEIA/TPS/CVII/SRC/Video/video_short.mp4: 384x640 Done. (0.289s)\n",
            "video 1/1 (248/320) /content/gdrive/MyDrive/CEIA/TPS/CVII/SRC/Video/video_short.mp4: 384x640 Done. (0.278s)\n",
            "video 1/1 (249/320) /content/gdrive/MyDrive/CEIA/TPS/CVII/SRC/Video/video_short.mp4: 384x640 Done. (0.276s)\n",
            "video 1/1 (250/320) /content/gdrive/MyDrive/CEIA/TPS/CVII/SRC/Video/video_short.mp4: 384x640 Done. (0.280s)\n",
            "video 1/1 (251/320) /content/gdrive/MyDrive/CEIA/TPS/CVII/SRC/Video/video_short.mp4: 384x640 Done. (0.299s)\n",
            "video 1/1 (252/320) /content/gdrive/MyDrive/CEIA/TPS/CVII/SRC/Video/video_short.mp4: 384x640 Done. (0.280s)\n",
            "video 1/1 (253/320) /content/gdrive/MyDrive/CEIA/TPS/CVII/SRC/Video/video_short.mp4: 384x640 Done. (0.281s)\n",
            "video 1/1 (254/320) /content/gdrive/MyDrive/CEIA/TPS/CVII/SRC/Video/video_short.mp4: 384x640 Done. (0.289s)\n",
            "video 1/1 (255/320) /content/gdrive/MyDrive/CEIA/TPS/CVII/SRC/Video/video_short.mp4: 384x640 Done. (0.285s)\n",
            "video 1/1 (256/320) /content/gdrive/MyDrive/CEIA/TPS/CVII/SRC/Video/video_short.mp4: 384x640 Done. (0.282s)\n",
            "video 1/1 (257/320) /content/gdrive/MyDrive/CEIA/TPS/CVII/SRC/Video/video_short.mp4: 384x640 Done. (0.286s)\n",
            "video 1/1 (258/320) /content/gdrive/MyDrive/CEIA/TPS/CVII/SRC/Video/video_short.mp4: 384x640 Done. (0.291s)\n",
            "video 1/1 (259/320) /content/gdrive/MyDrive/CEIA/TPS/CVII/SRC/Video/video_short.mp4: 384x640 Done. (0.280s)\n",
            "video 1/1 (260/320) /content/gdrive/MyDrive/CEIA/TPS/CVII/SRC/Video/video_short.mp4: 384x640 1 Handgun, Done. (0.279s)\n",
            "video 1/1 (261/320) /content/gdrive/MyDrive/CEIA/TPS/CVII/SRC/Video/video_short.mp4: 384x640 1 Handgun, Done. (0.284s)\n",
            "video 1/1 (262/320) /content/gdrive/MyDrive/CEIA/TPS/CVII/SRC/Video/video_short.mp4: 384x640 Done. (0.274s)\n",
            "video 1/1 (263/320) /content/gdrive/MyDrive/CEIA/TPS/CVII/SRC/Video/video_short.mp4: 384x640 Done. (0.277s)\n",
            "video 1/1 (264/320) /content/gdrive/MyDrive/CEIA/TPS/CVII/SRC/Video/video_short.mp4: 384x640 1 Handgun, Done. (0.290s)\n",
            "video 1/1 (265/320) /content/gdrive/MyDrive/CEIA/TPS/CVII/SRC/Video/video_short.mp4: 384x640 1 Handgun, Done. (0.280s)\n",
            "video 1/1 (266/320) /content/gdrive/MyDrive/CEIA/TPS/CVII/SRC/Video/video_short.mp4: 384x640 1 Handgun, Done. (0.293s)\n",
            "video 1/1 (267/320) /content/gdrive/MyDrive/CEIA/TPS/CVII/SRC/Video/video_short.mp4: 384x640 1 Handgun, Done. (0.285s)\n",
            "video 1/1 (268/320) /content/gdrive/MyDrive/CEIA/TPS/CVII/SRC/Video/video_short.mp4: 384x640 Done. (0.293s)\n",
            "video 1/1 (269/320) /content/gdrive/MyDrive/CEIA/TPS/CVII/SRC/Video/video_short.mp4: 384x640 Done. (0.287s)\n",
            "video 1/1 (270/320) /content/gdrive/MyDrive/CEIA/TPS/CVII/SRC/Video/video_short.mp4: 384x640 Done. (0.295s)\n",
            "video 1/1 (271/320) /content/gdrive/MyDrive/CEIA/TPS/CVII/SRC/Video/video_short.mp4: 384x640 Done. (0.284s)\n",
            "video 1/1 (272/320) /content/gdrive/MyDrive/CEIA/TPS/CVII/SRC/Video/video_short.mp4: 384x640 Done. (0.277s)\n",
            "video 1/1 (273/320) /content/gdrive/MyDrive/CEIA/TPS/CVII/SRC/Video/video_short.mp4: 384x640 Done. (0.289s)\n",
            "video 1/1 (274/320) /content/gdrive/MyDrive/CEIA/TPS/CVII/SRC/Video/video_short.mp4: 384x640 Done. (0.287s)\n",
            "video 1/1 (275/320) /content/gdrive/MyDrive/CEIA/TPS/CVII/SRC/Video/video_short.mp4: 384x640 Done. (0.294s)\n",
            "video 1/1 (276/320) /content/gdrive/MyDrive/CEIA/TPS/CVII/SRC/Video/video_short.mp4: 384x640 Done. (0.280s)\n",
            "video 1/1 (277/320) /content/gdrive/MyDrive/CEIA/TPS/CVII/SRC/Video/video_short.mp4: 384x640 1 Handgun, Done. (0.280s)\n",
            "video 1/1 (278/320) /content/gdrive/MyDrive/CEIA/TPS/CVII/SRC/Video/video_short.mp4: 384x640 Done. (0.287s)\n",
            "video 1/1 (279/320) /content/gdrive/MyDrive/CEIA/TPS/CVII/SRC/Video/video_short.mp4: 384x640 Done. (0.279s)\n",
            "video 1/1 (280/320) /content/gdrive/MyDrive/CEIA/TPS/CVII/SRC/Video/video_short.mp4: 384x640 Done. (0.276s)\n",
            "video 1/1 (281/320) /content/gdrive/MyDrive/CEIA/TPS/CVII/SRC/Video/video_short.mp4: 384x640 Done. (0.295s)\n",
            "video 1/1 (282/320) /content/gdrive/MyDrive/CEIA/TPS/CVII/SRC/Video/video_short.mp4: 384x640 Done. (0.277s)\n",
            "video 1/1 (283/320) /content/gdrive/MyDrive/CEIA/TPS/CVII/SRC/Video/video_short.mp4: 384x640 Done. (0.278s)\n",
            "video 1/1 (284/320) /content/gdrive/MyDrive/CEIA/TPS/CVII/SRC/Video/video_short.mp4: 384x640 Done. (0.283s)\n",
            "video 1/1 (285/320) /content/gdrive/MyDrive/CEIA/TPS/CVII/SRC/Video/video_short.mp4: 384x640 Done. (0.285s)\n",
            "video 1/1 (286/320) /content/gdrive/MyDrive/CEIA/TPS/CVII/SRC/Video/video_short.mp4: 384x640 Done. (0.274s)\n",
            "video 1/1 (287/320) /content/gdrive/MyDrive/CEIA/TPS/CVII/SRC/Video/video_short.mp4: 384x640 Done. (0.279s)\n",
            "video 1/1 (288/320) /content/gdrive/MyDrive/CEIA/TPS/CVII/SRC/Video/video_short.mp4: 384x640 Done. (0.286s)\n",
            "video 1/1 (289/320) /content/gdrive/MyDrive/CEIA/TPS/CVII/SRC/Video/video_short.mp4: 384x640 Done. (0.274s)\n",
            "video 1/1 (290/320) /content/gdrive/MyDrive/CEIA/TPS/CVII/SRC/Video/video_short.mp4: 384x640 Done. (0.273s)\n",
            "video 1/1 (291/320) /content/gdrive/MyDrive/CEIA/TPS/CVII/SRC/Video/video_short.mp4: 384x640 Done. (0.275s)\n",
            "video 1/1 (292/320) /content/gdrive/MyDrive/CEIA/TPS/CVII/SRC/Video/video_short.mp4: 384x640 Done. (0.282s)\n",
            "video 1/1 (293/320) /content/gdrive/MyDrive/CEIA/TPS/CVII/SRC/Video/video_short.mp4: 384x640 Done. (0.275s)\n",
            "video 1/1 (294/320) /content/gdrive/MyDrive/CEIA/TPS/CVII/SRC/Video/video_short.mp4: 384x640 Done. (0.276s)\n",
            "video 1/1 (295/320) /content/gdrive/MyDrive/CEIA/TPS/CVII/SRC/Video/video_short.mp4: 384x640 Done. (0.285s)\n",
            "video 1/1 (296/320) /content/gdrive/MyDrive/CEIA/TPS/CVII/SRC/Video/video_short.mp4: 384x640 Done. (0.278s)\n",
            "video 1/1 (297/320) /content/gdrive/MyDrive/CEIA/TPS/CVII/SRC/Video/video_short.mp4: 384x640 Done. (0.278s)\n",
            "video 1/1 (298/320) /content/gdrive/MyDrive/CEIA/TPS/CVII/SRC/Video/video_short.mp4: 384x640 Done. (0.284s)\n",
            "video 1/1 (299/320) /content/gdrive/MyDrive/CEIA/TPS/CVII/SRC/Video/video_short.mp4: 384x640 Done. (0.293s)\n",
            "video 1/1 (300/320) /content/gdrive/MyDrive/CEIA/TPS/CVII/SRC/Video/video_short.mp4: 384x640 Done. (0.280s)\n",
            "video 1/1 (301/320) /content/gdrive/MyDrive/CEIA/TPS/CVII/SRC/Video/video_short.mp4: 384x640 Done. (0.279s)\n",
            "video 1/1 (302/320) /content/gdrive/MyDrive/CEIA/TPS/CVII/SRC/Video/video_short.mp4: 384x640 Done. (0.291s)\n",
            "video 1/1 (303/320) /content/gdrive/MyDrive/CEIA/TPS/CVII/SRC/Video/video_short.mp4: 384x640 Done. (0.283s)\n",
            "video 1/1 (304/320) /content/gdrive/MyDrive/CEIA/TPS/CVII/SRC/Video/video_short.mp4: 384x640 Done. (0.280s)\n",
            "video 1/1 (305/320) /content/gdrive/MyDrive/CEIA/TPS/CVII/SRC/Video/video_short.mp4: 384x640 Done. (0.286s)\n",
            "video 1/1 (306/320) /content/gdrive/MyDrive/CEIA/TPS/CVII/SRC/Video/video_short.mp4: 384x640 Done. (0.298s)\n",
            "video 1/1 (307/320) /content/gdrive/MyDrive/CEIA/TPS/CVII/SRC/Video/video_short.mp4: 384x640 Done. (0.277s)\n",
            "video 1/1 (308/320) /content/gdrive/MyDrive/CEIA/TPS/CVII/SRC/Video/video_short.mp4: 384x640 Done. (0.272s)\n",
            "video 1/1 (309/320) /content/gdrive/MyDrive/CEIA/TPS/CVII/SRC/Video/video_short.mp4: 384x640 Done. (0.284s)\n",
            "video 1/1 (310/320) /content/gdrive/MyDrive/CEIA/TPS/CVII/SRC/Video/video_short.mp4: 384x640 Done. (0.273s)\n",
            "video 1/1 (311/320) /content/gdrive/MyDrive/CEIA/TPS/CVII/SRC/Video/video_short.mp4: 384x640 Done. (0.285s)\n",
            "video 1/1 (312/320) /content/gdrive/MyDrive/CEIA/TPS/CVII/SRC/Video/video_short.mp4: 384x640 Done. (0.272s)\n",
            "video 1/1 (313/320) /content/gdrive/MyDrive/CEIA/TPS/CVII/SRC/Video/video_short.mp4: 384x640 Done. (0.293s)\n",
            "video 1/1 (314/320) /content/gdrive/MyDrive/CEIA/TPS/CVII/SRC/Video/video_short.mp4: 384x640 Done. (0.276s)\n",
            "video 1/1 (315/320) /content/gdrive/MyDrive/CEIA/TPS/CVII/SRC/Video/video_short.mp4: 384x640 Done. (0.277s)\n",
            "video 1/1 (316/320) /content/gdrive/MyDrive/CEIA/TPS/CVII/SRC/Video/video_short.mp4: 384x640 Done. (0.303s)\n",
            "video 1/1 (317/320) /content/gdrive/MyDrive/CEIA/TPS/CVII/SRC/Video/video_short.mp4: 384x640 Done. (0.277s)\n",
            "video 1/1 (318/320) /content/gdrive/MyDrive/CEIA/TPS/CVII/SRC/Video/video_short.mp4: 384x640 Done. (0.279s)\n",
            "video 1/1 (319/320) /content/gdrive/MyDrive/CEIA/TPS/CVII/SRC/Video/video_short.mp4: 384x640 Done. (0.285s)\n",
            "video 1/1 (320/320) /content/gdrive/MyDrive/CEIA/TPS/CVII/SRC/Video/video_short.mp4: 384x640 Done. (0.279s)\n",
            "Speed: 1.3ms pre-process, 292.5ms inference, 0.3ms NMS per image at shape (1, 3, 640, 640)\n",
            "Results saved to \u001b[1mruns/detect/video_exp\u001b[0m\n"
          ]
        }
      ]
    },
    {
      "cell_type": "code",
      "source": [
        "%ls /content/yolov5/runs/detect/video_exp/"
      ],
      "metadata": {
        "colab": {
          "base_uri": "https://localhost:8080/"
        },
        "id": "cR5O2DPbGYp0",
        "outputId": "179e2134-2ee9-423d-daa0-49becee8abf4"
      },
      "execution_count": 16,
      "outputs": [
        {
          "output_type": "stream",
          "name": "stdout",
          "text": [
            "video_short.mp4\n"
          ]
        }
      ]
    },
    {
      "cell_type": "code",
      "source": [
        "%cp /content/yolov5/runs/detect/video_exp/video_short.mp4 /content/gdrive/MyDrive/CEIA/TPS/CVII/SRC/Video/video_exp_output.mp4"
      ],
      "metadata": {
        "id": "1I0fz4QaTIYP"
      },
      "execution_count": 17,
      "outputs": []
    }
  ]
}